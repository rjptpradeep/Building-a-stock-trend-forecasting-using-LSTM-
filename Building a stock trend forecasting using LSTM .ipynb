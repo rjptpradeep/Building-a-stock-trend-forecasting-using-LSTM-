{
 "cells": [
  {
   "cell_type": "markdown",
   "id": "3078bf20",
   "metadata": {},
   "source": [
    "## Importing the librarries"
   ]
  },
  {
   "cell_type": "code",
   "execution_count": 1,
   "id": "4db317a5",
   "metadata": {},
   "outputs": [],
   "source": [
    "import pandas as pd\n",
    "import numpy as np\n",
    "import matplotlib.pyplot as plt\n",
    "import pandas_datareader as pdr"
   ]
  },
  {
   "cell_type": "code",
   "execution_count": 2,
   "id": "8c13670a",
   "metadata": {},
   "outputs": [],
   "source": [
    "start=\"2010-01-01\"\n",
    "end=\"2019-12-31\"\n",
    "dataframe=pdr.DataReader(\"AAPL\",\"yahoo\",start,end)\n",
    "df1=dataframe.copy()"
   ]
  },
  {
   "cell_type": "code",
   "execution_count": 3,
   "id": "18485c8e",
   "metadata": {},
   "outputs": [
    {
     "data": {
      "text/html": [
       "<div>\n",
       "<style scoped>\n",
       "    .dataframe tbody tr th:only-of-type {\n",
       "        vertical-align: middle;\n",
       "    }\n",
       "\n",
       "    .dataframe tbody tr th {\n",
       "        vertical-align: top;\n",
       "    }\n",
       "\n",
       "    .dataframe thead th {\n",
       "        text-align: right;\n",
       "    }\n",
       "</style>\n",
       "<table border=\"1\" class=\"dataframe\">\n",
       "  <thead>\n",
       "    <tr style=\"text-align: right;\">\n",
       "      <th></th>\n",
       "      <th>High</th>\n",
       "      <th>Low</th>\n",
       "      <th>Open</th>\n",
       "      <th>Close</th>\n",
       "      <th>Volume</th>\n",
       "      <th>Adj Close</th>\n",
       "    </tr>\n",
       "    <tr>\n",
       "      <th>Date</th>\n",
       "      <th></th>\n",
       "      <th></th>\n",
       "      <th></th>\n",
       "      <th></th>\n",
       "      <th></th>\n",
       "      <th></th>\n",
       "    </tr>\n",
       "  </thead>\n",
       "  <tbody>\n",
       "    <tr>\n",
       "      <th>2009-12-31</th>\n",
       "      <td>7.619643</td>\n",
       "      <td>7.520000</td>\n",
       "      <td>7.611786</td>\n",
       "      <td>7.526071</td>\n",
       "      <td>352410800.0</td>\n",
       "      <td>6.452591</td>\n",
       "    </tr>\n",
       "    <tr>\n",
       "      <th>2010-01-04</th>\n",
       "      <td>7.660714</td>\n",
       "      <td>7.585000</td>\n",
       "      <td>7.622500</td>\n",
       "      <td>7.643214</td>\n",
       "      <td>493729600.0</td>\n",
       "      <td>6.553027</td>\n",
       "    </tr>\n",
       "    <tr>\n",
       "      <th>2010-01-05</th>\n",
       "      <td>7.699643</td>\n",
       "      <td>7.616071</td>\n",
       "      <td>7.664286</td>\n",
       "      <td>7.656429</td>\n",
       "      <td>601904800.0</td>\n",
       "      <td>6.564355</td>\n",
       "    </tr>\n",
       "    <tr>\n",
       "      <th>2010-01-06</th>\n",
       "      <td>7.686786</td>\n",
       "      <td>7.526786</td>\n",
       "      <td>7.656429</td>\n",
       "      <td>7.534643</td>\n",
       "      <td>552160000.0</td>\n",
       "      <td>6.459940</td>\n",
       "    </tr>\n",
       "    <tr>\n",
       "      <th>2010-01-07</th>\n",
       "      <td>7.571429</td>\n",
       "      <td>7.466071</td>\n",
       "      <td>7.562500</td>\n",
       "      <td>7.520714</td>\n",
       "      <td>477131200.0</td>\n",
       "      <td>6.447997</td>\n",
       "    </tr>\n",
       "  </tbody>\n",
       "</table>\n",
       "</div>"
      ],
      "text/plain": [
       "                High       Low      Open     Close       Volume  Adj Close\n",
       "Date                                                                      \n",
       "2009-12-31  7.619643  7.520000  7.611786  7.526071  352410800.0   6.452591\n",
       "2010-01-04  7.660714  7.585000  7.622500  7.643214  493729600.0   6.553027\n",
       "2010-01-05  7.699643  7.616071  7.664286  7.656429  601904800.0   6.564355\n",
       "2010-01-06  7.686786  7.526786  7.656429  7.534643  552160000.0   6.459940\n",
       "2010-01-07  7.571429  7.466071  7.562500  7.520714  477131200.0   6.447997"
      ]
     },
     "execution_count": 3,
     "metadata": {},
     "output_type": "execute_result"
    }
   ],
   "source": [
    "df1.head()"
   ]
  },
  {
   "cell_type": "code",
   "execution_count": 4,
   "id": "1f7ca826",
   "metadata": {},
   "outputs": [
    {
     "data": {
      "text/html": [
       "<div>\n",
       "<style scoped>\n",
       "    .dataframe tbody tr th:only-of-type {\n",
       "        vertical-align: middle;\n",
       "    }\n",
       "\n",
       "    .dataframe tbody tr th {\n",
       "        vertical-align: top;\n",
       "    }\n",
       "\n",
       "    .dataframe thead th {\n",
       "        text-align: right;\n",
       "    }\n",
       "</style>\n",
       "<table border=\"1\" class=\"dataframe\">\n",
       "  <thead>\n",
       "    <tr style=\"text-align: right;\">\n",
       "      <th></th>\n",
       "      <th>High</th>\n",
       "      <th>Low</th>\n",
       "      <th>Open</th>\n",
       "      <th>Close</th>\n",
       "      <th>Volume</th>\n",
       "      <th>Adj Close</th>\n",
       "    </tr>\n",
       "    <tr>\n",
       "      <th>Date</th>\n",
       "      <th></th>\n",
       "      <th></th>\n",
       "      <th></th>\n",
       "      <th></th>\n",
       "      <th></th>\n",
       "      <th></th>\n",
       "    </tr>\n",
       "  </thead>\n",
       "  <tbody>\n",
       "    <tr>\n",
       "      <th>2019-12-24</th>\n",
       "      <td>71.222504</td>\n",
       "      <td>70.730003</td>\n",
       "      <td>71.172501</td>\n",
       "      <td>71.067497</td>\n",
       "      <td>48478800.0</td>\n",
       "      <td>70.027306</td>\n",
       "    </tr>\n",
       "    <tr>\n",
       "      <th>2019-12-26</th>\n",
       "      <td>72.495003</td>\n",
       "      <td>71.175003</td>\n",
       "      <td>71.205002</td>\n",
       "      <td>72.477501</td>\n",
       "      <td>93121200.0</td>\n",
       "      <td>71.416672</td>\n",
       "    </tr>\n",
       "    <tr>\n",
       "      <th>2019-12-27</th>\n",
       "      <td>73.492500</td>\n",
       "      <td>72.029999</td>\n",
       "      <td>72.779999</td>\n",
       "      <td>72.449997</td>\n",
       "      <td>146266000.0</td>\n",
       "      <td>71.389572</td>\n",
       "    </tr>\n",
       "    <tr>\n",
       "      <th>2019-12-30</th>\n",
       "      <td>73.172501</td>\n",
       "      <td>71.305000</td>\n",
       "      <td>72.364998</td>\n",
       "      <td>72.879997</td>\n",
       "      <td>144114400.0</td>\n",
       "      <td>71.813293</td>\n",
       "    </tr>\n",
       "    <tr>\n",
       "      <th>2019-12-31</th>\n",
       "      <td>73.419998</td>\n",
       "      <td>72.379997</td>\n",
       "      <td>72.482498</td>\n",
       "      <td>73.412498</td>\n",
       "      <td>100805600.0</td>\n",
       "      <td>72.337975</td>\n",
       "    </tr>\n",
       "  </tbody>\n",
       "</table>\n",
       "</div>"
      ],
      "text/plain": [
       "                 High        Low       Open      Close       Volume  Adj Close\n",
       "Date                                                                          \n",
       "2019-12-24  71.222504  70.730003  71.172501  71.067497   48478800.0  70.027306\n",
       "2019-12-26  72.495003  71.175003  71.205002  72.477501   93121200.0  71.416672\n",
       "2019-12-27  73.492500  72.029999  72.779999  72.449997  146266000.0  71.389572\n",
       "2019-12-30  73.172501  71.305000  72.364998  72.879997  144114400.0  71.813293\n",
       "2019-12-31  73.419998  72.379997  72.482498  73.412498  100805600.0  72.337975"
      ]
     },
     "execution_count": 4,
     "metadata": {},
     "output_type": "execute_result"
    }
   ],
   "source": [
    "df1.tail()"
   ]
  },
  {
   "cell_type": "code",
   "execution_count": 5,
   "id": "02306593",
   "metadata": {},
   "outputs": [
    {
     "data": {
      "text/html": [
       "<div>\n",
       "<style scoped>\n",
       "    .dataframe tbody tr th:only-of-type {\n",
       "        vertical-align: middle;\n",
       "    }\n",
       "\n",
       "    .dataframe tbody tr th {\n",
       "        vertical-align: top;\n",
       "    }\n",
       "\n",
       "    .dataframe thead th {\n",
       "        text-align: right;\n",
       "    }\n",
       "</style>\n",
       "<table border=\"1\" class=\"dataframe\">\n",
       "  <thead>\n",
       "    <tr style=\"text-align: right;\">\n",
       "      <th></th>\n",
       "      <th>Date</th>\n",
       "      <th>High</th>\n",
       "      <th>Low</th>\n",
       "      <th>Open</th>\n",
       "      <th>Close</th>\n",
       "      <th>Volume</th>\n",
       "      <th>Adj Close</th>\n",
       "    </tr>\n",
       "  </thead>\n",
       "  <tbody>\n",
       "    <tr>\n",
       "      <th>0</th>\n",
       "      <td>2009-12-31</td>\n",
       "      <td>7.619643</td>\n",
       "      <td>7.520000</td>\n",
       "      <td>7.611786</td>\n",
       "      <td>7.526071</td>\n",
       "      <td>352410800.0</td>\n",
       "      <td>6.452591</td>\n",
       "    </tr>\n",
       "    <tr>\n",
       "      <th>1</th>\n",
       "      <td>2010-01-04</td>\n",
       "      <td>7.660714</td>\n",
       "      <td>7.585000</td>\n",
       "      <td>7.622500</td>\n",
       "      <td>7.643214</td>\n",
       "      <td>493729600.0</td>\n",
       "      <td>6.553027</td>\n",
       "    </tr>\n",
       "    <tr>\n",
       "      <th>2</th>\n",
       "      <td>2010-01-05</td>\n",
       "      <td>7.699643</td>\n",
       "      <td>7.616071</td>\n",
       "      <td>7.664286</td>\n",
       "      <td>7.656429</td>\n",
       "      <td>601904800.0</td>\n",
       "      <td>6.564355</td>\n",
       "    </tr>\n",
       "    <tr>\n",
       "      <th>3</th>\n",
       "      <td>2010-01-06</td>\n",
       "      <td>7.686786</td>\n",
       "      <td>7.526786</td>\n",
       "      <td>7.656429</td>\n",
       "      <td>7.534643</td>\n",
       "      <td>552160000.0</td>\n",
       "      <td>6.459940</td>\n",
       "    </tr>\n",
       "    <tr>\n",
       "      <th>4</th>\n",
       "      <td>2010-01-07</td>\n",
       "      <td>7.571429</td>\n",
       "      <td>7.466071</td>\n",
       "      <td>7.562500</td>\n",
       "      <td>7.520714</td>\n",
       "      <td>477131200.0</td>\n",
       "      <td>6.447997</td>\n",
       "    </tr>\n",
       "  </tbody>\n",
       "</table>\n",
       "</div>"
      ],
      "text/plain": [
       "        Date      High       Low      Open     Close       Volume  Adj Close\n",
       "0 2009-12-31  7.619643  7.520000  7.611786  7.526071  352410800.0   6.452591\n",
       "1 2010-01-04  7.660714  7.585000  7.622500  7.643214  493729600.0   6.553027\n",
       "2 2010-01-05  7.699643  7.616071  7.664286  7.656429  601904800.0   6.564355\n",
       "3 2010-01-06  7.686786  7.526786  7.656429  7.534643  552160000.0   6.459940\n",
       "4 2010-01-07  7.571429  7.466071  7.562500  7.520714  477131200.0   6.447997"
      ]
     },
     "execution_count": 5,
     "metadata": {},
     "output_type": "execute_result"
    }
   ],
   "source": [
    "# Creating new index\n",
    "df2=df1.reset_index()\n",
    "df2.head()"
   ]
  },
  {
   "cell_type": "code",
   "execution_count": 6,
   "id": "4273a112",
   "metadata": {},
   "outputs": [
    {
     "data": {
      "text/html": [
       "<div>\n",
       "<style scoped>\n",
       "    .dataframe tbody tr th:only-of-type {\n",
       "        vertical-align: middle;\n",
       "    }\n",
       "\n",
       "    .dataframe tbody tr th {\n",
       "        vertical-align: top;\n",
       "    }\n",
       "\n",
       "    .dataframe thead th {\n",
       "        text-align: right;\n",
       "    }\n",
       "</style>\n",
       "<table border=\"1\" class=\"dataframe\">\n",
       "  <thead>\n",
       "    <tr style=\"text-align: right;\">\n",
       "      <th></th>\n",
       "      <th>High</th>\n",
       "      <th>Low</th>\n",
       "      <th>Open</th>\n",
       "      <th>Close</th>\n",
       "      <th>Volume</th>\n",
       "    </tr>\n",
       "  </thead>\n",
       "  <tbody>\n",
       "    <tr>\n",
       "      <th>0</th>\n",
       "      <td>7.619643</td>\n",
       "      <td>7.520000</td>\n",
       "      <td>7.611786</td>\n",
       "      <td>7.526071</td>\n",
       "      <td>352410800.0</td>\n",
       "    </tr>\n",
       "    <tr>\n",
       "      <th>1</th>\n",
       "      <td>7.660714</td>\n",
       "      <td>7.585000</td>\n",
       "      <td>7.622500</td>\n",
       "      <td>7.643214</td>\n",
       "      <td>493729600.0</td>\n",
       "    </tr>\n",
       "    <tr>\n",
       "      <th>2</th>\n",
       "      <td>7.699643</td>\n",
       "      <td>7.616071</td>\n",
       "      <td>7.664286</td>\n",
       "      <td>7.656429</td>\n",
       "      <td>601904800.0</td>\n",
       "    </tr>\n",
       "    <tr>\n",
       "      <th>3</th>\n",
       "      <td>7.686786</td>\n",
       "      <td>7.526786</td>\n",
       "      <td>7.656429</td>\n",
       "      <td>7.534643</td>\n",
       "      <td>552160000.0</td>\n",
       "    </tr>\n",
       "    <tr>\n",
       "      <th>4</th>\n",
       "      <td>7.571429</td>\n",
       "      <td>7.466071</td>\n",
       "      <td>7.562500</td>\n",
       "      <td>7.520714</td>\n",
       "      <td>477131200.0</td>\n",
       "    </tr>\n",
       "  </tbody>\n",
       "</table>\n",
       "</div>"
      ],
      "text/plain": [
       "       High       Low      Open     Close       Volume\n",
       "0  7.619643  7.520000  7.611786  7.526071  352410800.0\n",
       "1  7.660714  7.585000  7.622500  7.643214  493729600.0\n",
       "2  7.699643  7.616071  7.664286  7.656429  601904800.0\n",
       "3  7.686786  7.526786  7.656429  7.534643  552160000.0\n",
       "4  7.571429  7.466071  7.562500  7.520714  477131200.0"
      ]
     },
     "execution_count": 6,
     "metadata": {},
     "output_type": "execute_result"
    }
   ],
   "source": [
    "# Dropping date and adj-close column\n",
    "df3=df2.drop([\"Date\",\"Adj Close\"], axis=1)\n",
    "df3.head()"
   ]
  },
  {
   "cell_type": "code",
   "execution_count": 7,
   "id": "3f54b116",
   "metadata": {},
   "outputs": [
    {
     "name": "stdout",
     "output_type": "stream",
     "text": [
      "<class 'pandas.core.frame.DataFrame'>\n",
      "RangeIndex: 2517 entries, 0 to 2516\n",
      "Data columns (total 5 columns):\n",
      " #   Column  Non-Null Count  Dtype  \n",
      "---  ------  --------------  -----  \n",
      " 0   High    2517 non-null   float64\n",
      " 1   Low     2517 non-null   float64\n",
      " 2   Open    2517 non-null   float64\n",
      " 3   Close   2517 non-null   float64\n",
      " 4   Volume  2517 non-null   float64\n",
      "dtypes: float64(5)\n",
      "memory usage: 98.4 KB\n"
     ]
    }
   ],
   "source": [
    "df3.info()"
   ]
  },
  {
   "cell_type": "raw",
   "id": "b50e2ccb",
   "metadata": {},
   "source": [
    "# Taking column \"Close\" for trend prediction, We can take others coulmn too."
   ]
  },
  {
   "cell_type": "code",
   "execution_count": 8,
   "id": "00c6c6e7",
   "metadata": {},
   "outputs": [
    {
     "data": {
      "image/png": "[encoded data removed]",
      "text/plain": [
       "<Figure size 432x288 with 1 Axes>"
      ]
     },
     "metadata": {
      "needs_background": "light"
     },
     "output_type": "display_data"
    }
   ],
   "source": [
    "# Closing price trend\n",
    "plt.plot(df3.Close)\n",
    "plt.title('Closing price trend')\n",
    "plt.ylabel('Closing price in Rupee ')\n",
    "plt.show()"
   ]
  },
  {
   "cell_type": "code",
   "execution_count": 9,
   "id": "0ceab459",
   "metadata": {},
   "outputs": [
    {
     "name": "stdout",
     "output_type": "stream",
     "text": [
      "0            NaN\n",
      "1            NaN\n",
      "2            NaN\n",
      "3            NaN\n",
      "4            NaN\n",
      "          ...   \n",
      "2512    65.16060\n",
      "2513    65.43355\n",
      "2514    65.71070\n",
      "2515    65.99190\n",
      "2516    66.27810\n",
      "Name: Close, Length: 2517, dtype: float64\n"
     ]
    }
   ],
   "source": [
    "# 50 days moving average, it will give mean of last 50 values of data\n",
    "ma50=df3.Close.rolling(50).mean()\n",
    "print(ma50)"
   ]
  },
  {
   "cell_type": "code",
   "execution_count": 10,
   "id": "b7d9278b",
   "metadata": {},
   "outputs": [
    {
     "data": {
      "image/png": "[encoded data removed]",
      "text/plain": [
       "<Figure size 432x288 with 1 Axes>"
      ]
     },
     "metadata": {
      "needs_background": "light"
     },
     "output_type": "display_data"
    }
   ],
   "source": [
    "#  50 days moving average trend of closing price \n",
    "plt.plot(df3.Close,\"b\",label=\"Closing price trend\")\n",
    "plt.plot(ma50,\"r\",label=\"50 days moving average trend\")\n",
    "plt.title('50 days moving average trend')\n",
    "plt.ylabel('Closing price in Rupee ')\n",
    "plt.legend()\n",
    "plt.show()"
   ]
  },
  {
   "cell_type": "code",
   "execution_count": 11,
   "id": "6db9a441",
   "metadata": {},
   "outputs": [
    {
     "data": {
      "image/png": "[encoded data removed]",
      "text/plain": [
       "<Figure size 432x288 with 1 Axes>"
      ]
     },
     "metadata": {
      "needs_background": "light"
     },
     "output_type": "display_data"
    }
   ],
   "source": [
    "# 100 days moving average trend of closing price\n",
    "ma100=df3.Close.rolling(100).mean()\n",
    "plt.plot(df3.Close,\"b\",label=\"Closing price trend\")\n",
    "plt.plot(ma100,\"g\",label=\"100 days moving average trend\")\n",
    "plt.title('100 days moving average trend')\n",
    "plt.ylabel('Closing price in Rupee ')\n",
    "plt.legend()\n",
    "plt.show()"
   ]
  },
  {
   "cell_type": "code",
   "execution_count": 12,
   "id": "6a9bb5d5",
   "metadata": {},
   "outputs": [
    {
     "data": {
      "image/png": "[encoded data removed]",
      "text/plain": [
       "<Figure size 1440x432 with 1 Axes>"
      ]
     },
     "metadata": {
      "needs_background": "light"
     },
     "output_type": "display_data"
    }
   ],
   "source": [
    "# Combine plots\n",
    "plt.figure(figsize=(20,6))\n",
    "plt.plot(df3.Close,\"b\",label=\"Closing price trend\")\n",
    "plt.plot(ma50,\"r\",label=\"50 days moving average trend\")\n",
    "plt.plot(ma100,\"g\",label= \"100 days moving average trend\")\n",
    "plt.ylabel('Closing price in Rupee ')\n",
    "plt.legend()\n",
    "plt.show()"
   ]
  },
  {
   "cell_type": "code",
   "execution_count": 13,
   "id": "652dbd05",
   "metadata": {},
   "outputs": [
    {
     "data": {
      "text/plain": [
       "(2517, 5)"
      ]
     },
     "execution_count": 13,
     "metadata": {},
     "output_type": "execute_result"
    }
   ],
   "source": [
    "df3.shape"
   ]
  },
  {
   "cell_type": "code",
   "execution_count": 14,
   "id": "c4c9cd24",
   "metadata": {},
   "outputs": [],
   "source": [
    "#spilliting data into training and testing\n",
    "data_training=pd.DataFrame(df3[\"Close\"][0:int(len(df3)*0.70)])\n",
    "data_testing=pd.DataFrame(df3[\"Close\"][int(len(df3)*0.70):int(len(df3))])"
   ]
  },
  {
   "cell_type": "code",
   "execution_count": 15,
   "id": "db422a63",
   "metadata": {},
   "outputs": [
    {
     "name": "stdout",
     "output_type": "stream",
     "text": [
      "(1761, 1)\n",
      "(756, 1)\n"
     ]
    }
   ],
   "source": [
    "print(data_training.shape)\n",
    "print(data_testing.shape)"
   ]
  },
  {
   "cell_type": "code",
   "execution_count": 16,
   "id": "451d09c0",
   "metadata": {},
   "outputs": [
    {
     "data": {
      "text/html": [
       "<div>\n",
       "<style scoped>\n",
       "    .dataframe tbody tr th:only-of-type {\n",
       "        vertical-align: middle;\n",
       "    }\n",
       "\n",
       "    .dataframe tbody tr th {\n",
       "        vertical-align: top;\n",
       "    }\n",
       "\n",
       "    .dataframe thead th {\n",
       "        text-align: right;\n",
       "    }\n",
       "</style>\n",
       "<table border=\"1\" class=\"dataframe\">\n",
       "  <thead>\n",
       "    <tr style=\"text-align: right;\">\n",
       "      <th></th>\n",
       "      <th>Close</th>\n",
       "    </tr>\n",
       "  </thead>\n",
       "  <tbody>\n",
       "    <tr>\n",
       "      <th>0</th>\n",
       "      <td>7.526071</td>\n",
       "    </tr>\n",
       "    <tr>\n",
       "      <th>1</th>\n",
       "      <td>7.643214</td>\n",
       "    </tr>\n",
       "    <tr>\n",
       "      <th>2</th>\n",
       "      <td>7.656429</td>\n",
       "    </tr>\n",
       "    <tr>\n",
       "      <th>3</th>\n",
       "      <td>7.534643</td>\n",
       "    </tr>\n",
       "    <tr>\n",
       "      <th>4</th>\n",
       "      <td>7.520714</td>\n",
       "    </tr>\n",
       "  </tbody>\n",
       "</table>\n",
       "</div>"
      ],
      "text/plain": [
       "      Close\n",
       "0  7.526071\n",
       "1  7.643214\n",
       "2  7.656429\n",
       "3  7.534643\n",
       "4  7.520714"
      ]
     },
     "execution_count": 16,
     "metadata": {},
     "output_type": "execute_result"
    }
   ],
   "source": [
    "data_training.head()"
   ]
  },
  {
   "cell_type": "markdown",
   "id": "2a137cad",
   "metadata": {},
   "source": [
    "#  Data preprocessing"
   ]
  },
  {
   "cell_type": "code",
   "execution_count": 17,
   "id": "8c1eeb72",
   "metadata": {},
   "outputs": [],
   "source": [
    "# Feature Scaling of training data\n",
    "from sklearn.preprocessing import MinMaxScaler \n",
    "scaler=MinMaxScaler(feature_range=(0,1))\n",
    "data_training_array=scaler.fit_transform(data_training)"
   ]
  },
  {
   "cell_type": "code",
   "execution_count": 18,
   "id": "e4db78b0",
   "metadata": {},
   "outputs": [
    {
     "name": "stdout",
     "output_type": "stream",
     "text": [
      "[[0.02527908]\n",
      " [0.02971782]\n",
      " [0.03021854]\n",
      " ...\n",
      " [0.84388656]\n",
      " [0.85089656]\n",
      " [0.84616011]]\n"
     ]
    }
   ],
   "source": [
    "print(data_training_array)"
   ]
  },
  {
   "cell_type": "code",
   "execution_count": 19,
   "id": "8dc17f45",
   "metadata": {},
   "outputs": [
    {
     "data": {
      "text/plain": [
       "(1761, 1)"
      ]
     },
     "execution_count": 19,
     "metadata": {},
     "output_type": "execute_result"
    }
   ],
   "source": [
    "data_training_array.shape"
   ]
  },
  {
   "cell_type": "code",
   "execution_count": 20,
   "id": "6b614721",
   "metadata": {},
   "outputs": [],
   "source": [
    "#Creating a training data structure with 100 timesteps and 1 output\n",
    "x_train=[]\n",
    "y_train=[]\n",
    "for i in range(100,data_training_array.shape[0]):\n",
    "    x_train.append(data_training_array[i-100:i])\n",
    "    y_train.append(data_training_array[i,0])"
   ]
  },
  {
   "cell_type": "code",
   "execution_count": 21,
   "id": "8f83f01b",
   "metadata": {},
   "outputs": [
    {
     "name": "stdout",
     "output_type": "stream",
     "text": [
      "(1661, 100, 1)\n",
      "(1661,)\n"
     ]
    }
   ],
   "source": [
    "# Converting the x_train, y_train to numpy arrays\n",
    "x_train,y_train=np.array(x_train), np.array(y_train)\n",
    "print(x_train.shape)\n",
    "print(y_train.shape)"
   ]
  },
  {
   "cell_type": "markdown",
   "id": "ff1c7f74",
   "metadata": {},
   "source": [
    "# Building the LSTM model"
   ]
  },
  {
   "cell_type": "code",
   "execution_count": 22,
   "id": "faa7ca9a",
   "metadata": {},
   "outputs": [],
   "source": [
    "#Importing the keras libraries and packages\n",
    "from keras.layers import Dense, Dropout, LSTM\n",
    "from keras.models import Sequential"
   ]
  },
  {
   "cell_type": "code",
   "execution_count": 23,
   "id": "d593f4fd",
   "metadata": {},
   "outputs": [],
   "source": [
    "#Initialising the model\n",
    "model=Sequential()"
   ]
  },
  {
   "cell_type": "code",
   "execution_count": 24,
   "id": "7cb1c882",
   "metadata": {},
   "outputs": [],
   "source": [
    "#Adding the first LSTM layer and some Dropout regularisation\n",
    "model.add(LSTM(units=50, activation=\"relu\", return_sequences=True, input_shape=(x_train.shape[1],1))) \n",
    "model.add(Dropout(0.2))\n",
    "\n",
    "#Adding a Second LSTM layer and some Dropout regularisation\n",
    "model.add(LSTM(units=60, activation=\"relu\", return_sequences=True))\n",
    "model.add(Dropout(0.3))\n",
    "\n",
    "#Adding a Third LSTM layer and some Dropout regularisation\n",
    "model.add(LSTM(units=80, activation=\"relu\", return_sequences=True))\n",
    "model.add(Dropout(0.4))\n",
    "\n",
    "#Adding a fourth LSTM layer and some Dropout regularisation\n",
    "model.add(LSTM(units=120, activation=\"relu\"))\n",
    "model.add(Dropout(0.5))\n",
    "\n",
    "#Adding the output layer\n",
    "model.add(Dense(units=1)) #to connect all upper layers"
   ]
  },
  {
   "cell_type": "code",
   "execution_count": 25,
   "id": "4c1bcd5d",
   "metadata": {},
   "outputs": [
    {
     "name": "stdout",
     "output_type": "stream",
     "text": [
      "Model: \"sequential\"\n",
      "_________________________________________________________________\n",
      " Layer (type)                Output Shape              Param #   \n",
      "=================================================================\n",
      " lstm (LSTM)                 (None, 100, 50)           10400     \n",
      "                                                                 \n",
      " dropout (Dropout)           (None, 100, 50)           0         \n",
      "                                                                 \n",
      " lstm_1 (LSTM)               (None, 100, 60)           26640     \n",
      "                                                                 \n",
      " dropout_1 (Dropout)         (None, 100, 60)           0         \n",
      "                                                                 \n",
      " lstm_2 (LSTM)               (None, 100, 80)           45120     \n",
      "                                                                 \n",
      " dropout_2 (Dropout)         (None, 100, 80)           0         \n",
      "                                                                 \n",
      " lstm_3 (LSTM)               (None, 120)               96480     \n",
      "                                                                 \n",
      " dropout_3 (Dropout)         (None, 120)               0         \n",
      "                                                                 \n",
      " dense (Dense)               (None, 1)                 121       \n",
      "                                                                 \n",
      "=================================================================\n",
      "Total params: 178,761\n",
      "Trainable params: 178,761\n",
      "Non-trainable params: 0\n",
      "_________________________________________________________________\n"
     ]
    }
   ],
   "source": [
    "model.summary()"
   ]
  },
  {
   "cell_type": "code",
   "execution_count": 26,
   "id": "3d15197d",
   "metadata": {},
   "outputs": [
    {
     "name": "stdout",
     "output_type": "stream",
     "text": [
      "Epoch 1/50\n",
      "52/52 [==============================] - 8s 108ms/step - loss: 0.0487\n",
      "Epoch 2/50\n",
      "52/52 [==============================] - 6s 106ms/step - loss: 0.0117\n",
      "Epoch 3/50\n",
      "52/52 [==============================] - 6s 108ms/step - loss: 0.0100\n",
      "Epoch 4/50\n",
      "52/52 [==============================] - 8s 146ms/step - loss: 0.0094\n",
      "Epoch 5/50\n",
      "52/52 [==============================] - 7s 144ms/step - loss: 0.0084\n",
      "Epoch 6/50\n",
      "52/52 [==============================] - 8s 146ms/step - loss: 0.0075\n",
      "Epoch 7/50\n",
      "52/52 [==============================] - 8s 145ms/step - loss: 0.0079\n",
      "Epoch 8/50\n",
      "52/52 [==============================] - 7s 142ms/step - loss: 0.0075\n",
      "Epoch 9/50\n",
      "52/52 [==============================] - 8s 145ms/step - loss: 0.0073\n",
      "Epoch 10/50\n",
      "52/52 [==============================] - 8s 145ms/step - loss: 0.0074\n",
      "Epoch 11/50\n",
      "52/52 [==============================] - 7s 143ms/step - loss: 0.0067\n",
      "Epoch 12/50\n",
      "52/52 [==============================] - 8s 146ms/step - loss: 0.0068\n",
      "Epoch 13/50\n",
      "52/52 [==============================] - 7s 142ms/step - loss: 0.0067\n",
      "Epoch 14/50\n",
      "52/52 [==============================] - 7s 140ms/step - loss: 0.0059\n",
      "Epoch 15/50\n",
      "52/52 [==============================] - 7s 139ms/step - loss: 0.0054\n",
      "Epoch 16/50\n",
      "52/52 [==============================] - 7s 138ms/step - loss: 0.0059\n",
      "Epoch 17/50\n",
      "52/52 [==============================] - 7s 137ms/step - loss: 0.0058\n",
      "Epoch 18/50\n",
      "52/52 [==============================] - 8s 145ms/step - loss: 0.0061\n",
      "Epoch 19/50\n",
      "52/52 [==============================] - 8s 145ms/step - loss: 0.0055\n",
      "Epoch 20/50\n",
      "52/52 [==============================] - 7s 140ms/step - loss: 0.0048\n",
      "Epoch 21/50\n",
      "52/52 [==============================] - 7s 141ms/step - loss: 0.0046\n",
      "Epoch 22/50\n",
      "52/52 [==============================] - 7s 140ms/step - loss: 0.0052\n",
      "Epoch 23/50\n",
      "52/52 [==============================] - 7s 141ms/step - loss: 0.0044\n",
      "Epoch 24/50\n",
      "52/52 [==============================] - 7s 141ms/step - loss: 0.0046\n",
      "Epoch 25/50\n",
      "52/52 [==============================] - 8s 144ms/step - loss: 0.0047\n",
      "Epoch 26/50\n",
      "52/52 [==============================] - 7s 141ms/step - loss: 0.0044\n",
      "Epoch 27/50\n",
      "52/52 [==============================] - 7s 139ms/step - loss: 0.0041\n",
      "Epoch 28/50\n",
      "52/52 [==============================] - 7s 140ms/step - loss: 0.0045\n",
      "Epoch 29/50\n",
      "52/52 [==============================] - 7s 140ms/step - loss: 0.0037\n",
      "Epoch 30/50\n",
      "52/52 [==============================] - 7s 140ms/step - loss: 0.0039\n",
      "Epoch 31/50\n",
      "52/52 [==============================] - 7s 140ms/step - loss: 0.0040\n",
      "Epoch 32/50\n",
      "52/52 [==============================] - 7s 139ms/step - loss: 0.0038\n",
      "Epoch 33/50\n",
      "52/52 [==============================] - 7s 140ms/step - loss: 0.0038\n",
      "Epoch 34/50\n",
      "52/52 [==============================] - 7s 139ms/step - loss: 0.0034\n",
      "Epoch 35/50\n",
      "52/52 [==============================] - 7s 143ms/step - loss: 0.0034\n",
      "Epoch 36/50\n",
      "52/52 [==============================] - 7s 139ms/step - loss: 0.0031\n",
      "Epoch 37/50\n",
      "52/52 [==============================] - 7s 140ms/step - loss: 0.0037\n",
      "Epoch 38/50\n",
      "52/52 [==============================] - 7s 140ms/step - loss: 0.0032\n",
      "Epoch 39/50\n",
      "52/52 [==============================] - 7s 140ms/step - loss: 0.0032\n",
      "Epoch 40/50\n",
      "52/52 [==============================] - 7s 144ms/step - loss: 0.0034\n",
      "Epoch 41/50\n",
      "52/52 [==============================] - 7s 141ms/step - loss: 0.0033\n",
      "Epoch 42/50\n",
      "52/52 [==============================] - 7s 140ms/step - loss: 0.0032\n",
      "Epoch 43/50\n",
      "52/52 [==============================] - 7s 140ms/step - loss: 0.0031\n",
      "Epoch 44/50\n",
      "52/52 [==============================] - 7s 140ms/step - loss: 0.0030\n",
      "Epoch 45/50\n",
      "52/52 [==============================] - 7s 141ms/step - loss: 0.0031\n",
      "Epoch 46/50\n",
      "52/52 [==============================] - 7s 141ms/step - loss: 0.0031\n",
      "Epoch 47/50\n",
      "52/52 [==============================] - 7s 140ms/step - loss: 0.0028\n",
      "Epoch 48/50\n",
      "52/52 [==============================] - 7s 140ms/step - loss: 0.0028\n",
      "Epoch 49/50\n",
      "52/52 [==============================] - 7s 139ms/step - loss: 0.0028\n",
      "Epoch 50/50\n",
      "52/52 [==============================] - 7s 140ms/step - loss: 0.0030\n"
     ]
    },
    {
     "data": {
      "text/plain": [
       "<keras.callbacks.History at 0x2bf8257d0a0>"
      ]
     },
     "execution_count": 26,
     "metadata": {},
     "output_type": "execute_result"
    }
   ],
   "source": [
    "# Compiling the model\n",
    "model.compile(optimizer=\"adam\",loss=\"mean_squared_error\") \n",
    "\n",
    "# Fitting the model to the training set\n",
    "model.fit(x_train,y_train,epochs=50)"
   ]
  },
  {
   "cell_type": "code",
   "execution_count": 27,
   "id": "932469e2",
   "metadata": {},
   "outputs": [],
   "source": [
    "# Creating test data "
   ]
  },
  {
   "cell_type": "code",
   "execution_count": 30,
   "id": "6d6fbdbf",
   "metadata": {},
   "outputs": [],
   "source": [
    "data_testing.head()\n",
    "past_100_days_data=data_training.tail(100)\n",
    "final_df=past_100_days_data.append(data_testing,ignore_index=True)"
   ]
  },
  {
   "cell_type": "code",
   "execution_count": 31,
   "id": "af0b028a",
   "metadata": {},
   "outputs": [
    {
     "data": {
      "text/html": [
       "<div>\n",
       "<style scoped>\n",
       "    .dataframe tbody tr th:only-of-type {\n",
       "        vertical-align: middle;\n",
       "    }\n",
       "\n",
       "    .dataframe tbody tr th {\n",
       "        vertical-align: top;\n",
       "    }\n",
       "\n",
       "    .dataframe thead th {\n",
       "        text-align: right;\n",
       "    }\n",
       "</style>\n",
       "<table border=\"1\" class=\"dataframe\">\n",
       "  <thead>\n",
       "    <tr style=\"text-align: right;\">\n",
       "      <th></th>\n",
       "      <th>Close</th>\n",
       "    </tr>\n",
       "  </thead>\n",
       "  <tbody>\n",
       "    <tr>\n",
       "      <th>0</th>\n",
       "      <td>27.092501</td>\n",
       "    </tr>\n",
       "    <tr>\n",
       "      <th>1</th>\n",
       "      <td>27.202499</td>\n",
       "    </tr>\n",
       "    <tr>\n",
       "      <th>2</th>\n",
       "      <td>27.000000</td>\n",
       "    </tr>\n",
       "    <tr>\n",
       "      <th>3</th>\n",
       "      <td>26.982500</td>\n",
       "    </tr>\n",
       "    <tr>\n",
       "      <th>4</th>\n",
       "      <td>27.045000</td>\n",
       "    </tr>\n",
       "  </tbody>\n",
       "</table>\n",
       "</div>"
      ],
      "text/plain": [
       "       Close\n",
       "0  27.092501\n",
       "1  27.202499\n",
       "2  27.000000\n",
       "3  26.982500\n",
       "4  27.045000"
      ]
     },
     "execution_count": 31,
     "metadata": {},
     "output_type": "execute_result"
    }
   ],
   "source": [
    "final_df.head()"
   ]
  },
  {
   "cell_type": "code",
   "execution_count": 37,
   "id": "3f0f83d6",
   "metadata": {},
   "outputs": [],
   "source": [
    "# Scaling down test data set\n",
    "input_data=scaler.fit_transform(final_df)"
   ]
  },
  {
   "cell_type": "code",
   "execution_count": 38,
   "id": "b801c685",
   "metadata": {},
   "outputs": [],
   "source": [
    "# Creating the testing data set\n",
    "x_test=[]\n",
    "y_test=[]\n",
    "for i in range(100,input_data.shape[0]):\n",
    "    x_test.append(input_data[i-100: i])\n",
    "    y_test.append(input_data[i,0])"
   ]
  },
  {
   "cell_type": "code",
   "execution_count": 39,
   "id": "1785db92",
   "metadata": {},
   "outputs": [
    {
     "name": "stdout",
     "output_type": "stream",
     "text": [
      "(756, 100, 1)\n",
      "(756,)\n"
     ]
    }
   ],
   "source": [
    "# Converting the x_test, y_test to numpy arrays\n",
    "x_test,y_test=np.array(x_test),np.array(y_test)\n",
    "print(x_test.shape)\n",
    "print(y_test.shape)"
   ]
  },
  {
   "cell_type": "code",
   "execution_count": 42,
   "id": "0d83ce70",
   "metadata": {},
   "outputs": [
    {
     "data": {
      "text/plain": [
       "(756, 1)"
      ]
     },
     "execution_count": 42,
     "metadata": {},
     "output_type": "execute_result"
    }
   ],
   "source": [
    "# Making prediction\n",
    "y_predicted=model.predict(x_test)\n",
    "y_predicted.shape"
   ]
  },
  {
   "cell_type": "raw",
   "id": "7b6ad6f9",
   "metadata": {},
   "source": [
    "# Calculating the RMSE values and Visualising the results"
   ]
  },
  {
   "cell_type": "code",
   "execution_count": 43,
   "id": "69686ee5",
   "metadata": {},
   "outputs": [
    {
     "name": "stdout",
     "output_type": "stream",
     "text": [
      "[0.02099517]\n"
     ]
    }
   ],
   "source": [
    "Scaler_scale=scaler.scale_ #finding factor by which MinMaxScaler scaled down data eariler\n",
    "print(Scaler_scale)"
   ]
  },
  {
   "cell_type": "code",
   "execution_count": 44,
   "id": "f404aa8c",
   "metadata": {},
   "outputs": [],
   "source": [
    "scale_factor=1/Scaler_scale"
   ]
  },
  {
   "cell_type": "code",
   "execution_count": 45,
   "id": "1d5f9175",
   "metadata": {},
   "outputs": [],
   "source": [
    "# Calculating RMSE performance matrix\n",
    "import math\n",
    "from sklearn.metrics import mean_squared_error"
   ]
  },
  {
   "cell_type": "code",
   "execution_count": 46,
   "id": "6540492b",
   "metadata": {},
   "outputs": [
    {
     "name": "stdout",
     "output_type": "stream",
     "text": [
      "(1661, 1)\n",
      "(1661,)\n"
     ]
    }
   ],
   "source": [
    "x_train_column=x_train[:,1]\n",
    "print(x_train_column.shape)\n",
    "print(y_train.shape)"
   ]
  },
  {
   "cell_type": "code",
   "execution_count": 47,
   "id": "480b0184",
   "metadata": {},
   "outputs": [],
   "source": [
    "y_train=y_train*scale_factor\n",
    "rmse_x_train=x_train_column*scale_factor"
   ]
  },
  {
   "cell_type": "code",
   "execution_count": 48,
   "id": "e9c3ca49",
   "metadata": {},
   "outputs": [
    {
     "data": {
      "text/plain": [
       "6.313035527756586"
      ]
     },
     "execution_count": 48,
     "metadata": {},
     "output_type": "execute_result"
    }
   ],
   "source": [
    "# RMSE(Root Mean Square Error) value of train data\n",
    "math.sqrt(mean_squared_error(rmse_x_train,y_train))"
   ]
  },
  {
   "cell_type": "code",
   "execution_count": 49,
   "id": "f7fc1513",
   "metadata": {},
   "outputs": [
    {
     "data": {
      "text/plain": [
       "1.9844357322960355"
      ]
     },
     "execution_count": 49,
     "metadata": {},
     "output_type": "execute_result"
    }
   ],
   "source": [
    "y_predicted=y_predicted*scale_factor\n",
    "y_test=y_test*scale_factor\n",
    "math.sqrt(mean_squared_error(y_test,y_predicted))"
   ]
  },
  {
   "cell_type": "code",
   "execution_count": 47,
   "id": "94131ef1",
   "metadata": {},
   "outputs": [
    {
     "data": {
      "image/png": "[encoded data removed]",
      "text/plain": [
       "<Figure size 864x432 with 1 Axes>"
      ]
     },
     "metadata": {
      "needs_background": "light"
     },
     "output_type": "display_data"
    }
   ],
   "source": [
    "# Visualising the results\n",
    "plt.figure(figsize=(12,6))\n",
    "plt.plot(y_test,\"b\",label=\"original_price\")\n",
    "plt.plot(y_predicted,\"r\",label=\"predicted price\")\n",
    "plt.xlabel(\"Time\")\n",
    "plt.ylabel(\"Price\")\n",
    "plt.legend()\n",
    "plt.show()"
   ]
  }
 ],
 "metadata": {
  "kernelspec": {
   "display_name": "Python 3",
   "language": "python",
   "name": "python3"
  },
  "language_info": {
   "codemirror_mode": {
    "name": "ipython",
    "version": 3
   },
   "file_extension": ".py",
   "mimetype": "text/x-python",
   "name": "python",
   "nbconvert_exporter": "python",
   "pygments_lexer": "ipython3",
   "version": "3.8.8"
  }
 },
 "nbformat": 4,
 "nbformat_minor": 5
}
